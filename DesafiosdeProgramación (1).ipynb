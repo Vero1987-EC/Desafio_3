{
  "cells": [
    {
      "cell_type": "code",
      "execution_count": null,
      "metadata": {
        "id": "HX4RPfLlabKz"
      },
      "outputs": [],
      "source": []
    },
    {
      "cell_type": "markdown",
      "metadata": {
        "id": "oKhc8Bo4auS7"
      },
      "source": [
        "#Desafio 3: Convertidor de temperaturas\n",
        "** ¿Qué pide el enunciado?**\n",
        "Realizar la conversión de una temperatura en Celcius a Farenheit y Kelvin.\n",
        "\n",
        "**¿Qué tipo de datos y operadores utilizaste?**\n",
        "Utilice variable tipo 'float' y operadores aritméticos ('+', '*', '/').\n",
        "**¿Qué validaciones implementaste o podrias haber hecho?**\n",
        "Podria validar que la temperatura ingresada sea númerica y no texto.\n",
        "\n"
      ]
    },
    {
      "cell_type": "code",
      "execution_count": null,
      "metadata": {
        "id": "U3nJtt99cfuF"
      },
      "outputs": [],
      "source": [
        "celsius = float(input(\"Ingrese la tempera en grados Celsius: ¨\"))\n",
        "\n",
        "Farenheit = (celsius *9/5) + 32\n",
        "kelvin = celsius + 273.15\n",
        "\n",
        "print(\"RESULTADOS---\")\n",
        "print(\"Temperatura eb Celsius: \", celsius)\n",
        "print(\"Temperatura en Farenheit: \", Farenheit)\n",
        "print(\"Temperatura en Kelvin: \", kelvin)"
      ]
    },
    {
      "cell_type": "markdown",
      "metadata": {
        "id": "xBay7B5xeFFJ"
      },
      "source": [
        "##Desafio 4: Verificar múltiplos de varios números.\n",
        "\n"
      ]
    },
    {
      "cell_type": "markdown",
      "metadata": {
        "id": "bNqI1r0veg_1"
      },
      "source": [
        "**¿Qué pide el enunciado?**\n",
        "Verificar si un número ingresado es múltiplo de varios valores (2, 3, 5, 7,9,10 y 11).\n",
        "\n",
        "**¿Qué tipo de datos y operadores utilizaste?**\n",
        "Utilice 'int' y operadores módulo '%' para saber si hay resto.\n",
        "\n",
        "**¿Qué validaciones implementaste o podrias haber hecho?**\n",
        "Podria verificar que el numero ingresado sea entero y no una letra o símbolo.\n"
      ]
    },
    {
      "cell_type": "code",
      "execution_count": null,
      "metadata": {
        "id": "OB6pHd1mfqV0"
      },
      "outputs": [],
      "source": [
        "multiplo = int(input(\"Ingresa un numero entero: \"))\n",
        "\n",
        "if multiplo % 2 == 0:\n",
        "  print(\"El valor ingresado es multiplo de 2\")\n",
        "else:\n",
        "  print(\"ERROR no es multiplo de 2\")\n",
        "\n",
        "if multiplo % 3 == 0:\n",
        "  print(\"El valor ingresado es multiplo de 3 \")\n",
        "else:\n",
        "  print(\"ERROR no es multiplo de 3\")\n",
        "\n",
        "if multiplo % 5 == 0:\n",
        "  print(\"El valor ingresado es multiplo de 5\")\n",
        "else:\n",
        "  print(\"ERROR no es multiplo de 5\")\n",
        "\n",
        "if multiplo % 7 == 0:\n",
        "  print(\"El valor ingresado es multiplo de 7\")\n",
        "else:\n",
        "  print(\"ERROR el valor no es multiplo de 7\")\n",
        "\n",
        "if multiplo % 9 == 0:\n",
        "  print(\"El valor ingresado es multiplo de 9\")\n",
        "else:\n",
        " print(\"ERROR el valor ingresado no es multiplo de 9\")\n",
        "\n",
        "if multiplo % 10 == 0:\n",
        "  print(\"E valor ingresado es multiplo de 10\")\n",
        "else:\n",
        "  print(\"ERROR el valor ingresado no es multiplo de 10\")\n",
        "\n",
        "if multiplo % 11 == 0:\n",
        "  print(\"El valor ingresado es multiplo de 11\")\n",
        "else:\n",
        "  (\"ERROR el valor ingresado no es multiplo de 11\")\n",
        "\n",
        "\n"
      ]
    },
    {
      "cell_type": "markdown",
      "metadata": {
        "id": "4rrsPwHkkpd3"
      },
      "source": [
        "##Webgrafia\n",
        "-https://docs.python.org/3/\n",
        "\n",
        "\n",
        "\n"
      ]
    },
    {
      "cell_type": "code",
      "execution_count": null,
      "metadata": {
        "id": "3jfXpTsFjVG5"
      },
      "outputs": [],
      "source": []
    },
    {
      "cell_type": "code",
      "execution_count": null,
      "metadata": {
        "id": "CdcIPYzwegZE"
      },
      "outputs": [],
      "source": []
    }
  ],
  "metadata": {
    "colab": {
      "provenance": []
    },
    "kernelspec": {
      "display_name": "Python 3",
      "name": "python3"
    },
    "language_info": {
      "name": "python"
    }
  },
  "nbformat": 4,
  "nbformat_minor": 0
}
