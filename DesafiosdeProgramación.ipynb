{
  "nbformat": 4,
  "nbformat_minor": 0,
  "metadata": {
    "colab": {
      "provenance": [],
      "authorship_tag": "ABX9TyObdF8a4gMAnQPOidYYRjs4",
      "include_colab_link": true
    },
    "kernelspec": {
      "name": "python3",
      "display_name": "Python 3"
    },
    "language_info": {
      "name": "python"
    }
  },
  "cells": [
    {
      "cell_type": "markdown",
      "metadata": {
        "id": "view-in-github",
        "colab_type": "text"
      },
      "source": [
        "<a href=\"https://colab.research.google.com/github/Vero1987-EC/Desafio_3/blob/main/DesafiosdeProgramaci%C3%B3n.ipynb\" target=\"_parent\"><img src=\"https://colab.research.google.com/assets/colab-badge.svg\" alt=\"Open In Colab\"/></a>"
      ]
    },
    {
      "cell_type": "code",
      "execution_count": null,
      "metadata": {
        "id": "HX4RPfLlabKz"
      },
      "outputs": [],
      "source": []
    },
    {
      "cell_type": "markdown",
      "source": [
        "#Desafio 3: Convertidor de temperaturas\n",
        "** ¿Qué pide el enunciado?**\n",
        "Realizar la conversión de una temperatura en Celcius a Farenheit y Kelvin.\n",
        "\n",
        "**¿Qué tipo de datos y operadores utilizaste?**\n",
        "Utilice variable tipo 'float' y operadores aritméticos ('+', '*', '/').\n",
        "**¿Qué validaciones implementaste o podrias haber hecho?**\n",
        "Podria validar que la temperatura ingresada sea númerica y no texto.\n",
        "\n"
      ],
      "metadata": {
        "id": "oKhc8Bo4auS7"
      }
    },
    {
      "cell_type": "code",
      "source": [
        "celsius = float(input(\"Ingrese la tempera en grados Celsius: \"))\n",
        "\n",
        "Farenheit = (celsius *9/5) + 32\n",
        "kelvin = celsius + 273.15\n",
        "\n",
        "print(\"RESULTADOS---\")\n",
        "print(\"Temperatura en Celsius: \", celsius)\n",
        "print(\"Temperatura en Farenheit: \", Farenheit)\n",
        "print(\"Temperatura en Kelvin: \", kelvin)"
      ],
      "metadata": {
        "id": "U3nJtt99cfuF",
        "colab": {
          "base_uri": "https://localhost:8080/"
        },
        "outputId": "4293cb29-52c9-4ed4-bef7-767bb1867123"
      },
      "execution_count": 1,
      "outputs": [
        {
          "output_type": "stream",
          "name": "stdout",
          "text": [
            "Ingrese la tempera en grados Celsius: 45\n",
            "RESULTADOS---\n",
            "Temperatura eb Celsius:  45.0\n",
            "Temperatura en Farenheit:  113.0\n",
            "Temperatura en Kelvin:  318.15\n"
          ]
        }
      ]
    },
    {
      "cell_type": "markdown",
      "source": [
        "##Desafio 4: Verificar múltiplos de varios números.\n",
        "\n"
      ],
      "metadata": {
        "id": "xBay7B5xeFFJ"
      }
    },
    {
      "cell_type": "markdown",
      "source": [
        "**¿Qué pide el enunciado?**\n",
        "Verificar si un número ingresado es múltiplo de varios valores (2, 3, 5, 7,9,10 y 11).\n",
        "\n",
        "**¿Qué tipo de datos y operadores utilizaste?**\n",
        "Utilice 'int' y operadores módulo '%' para saber si hay resto.\n",
        "\n",
        "**¿Qué validaciones implementaste o podrias haber hecho?**\n",
        "Podria verificar que el numero ingresado sea entero y no una letra o símbolo.\n"
      ],
      "metadata": {
        "id": "bNqI1r0veg_1"
      }
    },
    {
      "cell_type": "code",
      "source": [
        "multiplo = int(input(\"Ingresa un numero entero: \"))\n",
        "\n",
        "if multiplo % 2 == 0:\n",
        "  print(\"El valor ingresado es multiplo de 2\")\n",
        "else:\n",
        "  print(\"ERROR no es multiplo de 2\")\n",
        "\n",
        "if multiplo % 3 == 0:\n",
        "  print(\"El valor ingresado es multiplo de 3 \")\n",
        "else:\n",
        "  print(\"ERROR no es multiplo de 3\")\n",
        "\n",
        "if multiplo % 5 == 0:\n",
        "  print(\"El valor ingresado es multiplo de 5\")\n",
        "else:\n",
        "  print(\"ERROR no es multiplo de 5\")\n",
        "\n",
        "if multiplo % 7 == 0:\n",
        "  print(\"El valor ingresado es multiplo de 7\")\n",
        "else:\n",
        "  print(\"ERROR el valor no es multiplo de 7\")\n",
        "\n",
        "if multiplo % 9 == 0:\n",
        "  print(\"El valor ingresado es multiplo de 9\")\n",
        "else:\n",
        "  print(\"ERROR el valor ingresado no es multiplo de 9\")\n",
        "\n",
        "if multiplo % 10 == 0:\n",
        "  print(\"El valor ingresado es multiplo de 10\")\n",
        "else:\n",
        "  print(\"ERROR el valor ingresado no es multiplo de 10\")\n",
        "\n",
        "if multiplo % 11 == 0:\n",
        "  print(\"El valor ingresado es multiplo de 11\")\n",
        "else:\n",
        "  print(\"ERROR el valor ingresado no es multiplo de 11\")\n",
        "\n",
        "\n"
      ],
      "metadata": {
        "id": "OB6pHd1mfqV0",
        "colab": {
          "base_uri": "https://localhost:8080/"
        },
        "outputId": "ea773928-b72a-4f38-c724-7f1e49a1a1f4"
      },
      "execution_count": 7,
      "outputs": [
        {
          "output_type": "stream",
          "name": "stdout",
          "text": [
            "Ingresa un numero entero: 45\n",
            "ERROR no es multiplo de 2\n",
            "El valor ingresado es multiplo de 3 \n",
            "El valor ingresado es multiplo de 5\n",
            "ERROR el valor no es multiplo de 7\n",
            "El valor ingresado es multiplo de 9\n",
            "ERROR el valor ingresado no es multiplo de 10\n",
            "ERROR el valor ingresado no es multiplo de 11\n"
          ]
        }
      ]
    },
    {
      "cell_type": "markdown",
      "source": [
        "##Enlace al respositorio deGithub.\n",
        "https://github.com/Vero1987-EC/Desafio_python\n"
      ],
      "metadata": {
        "id": "i5zn_e2byhJV"
      }
    },
    {
      "cell_type": "markdown",
      "source": [
        "##Webgrafia\n",
        "-https://docs.python.org/3/\n",
        "\n",
        "\n",
        "\n"
      ],
      "metadata": {
        "id": "4rrsPwHkkpd3"
      }
    }
  ]
}